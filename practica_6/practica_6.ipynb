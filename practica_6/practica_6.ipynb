{
 "cells": [
  {
   "cell_type": "code",
   "execution_count": 1,
   "metadata": {},
   "outputs": [],
   "source": [
    "import zipfile\n",
    "import urllib.request\n",
    "\n",
    "def download_files():\n",
    "    urllib.request.urlretrieve(\"https://github.com/hromi/SMILEsmileD/archive/refs/heads/master.zip\", \"./heads.zip\")\n",
    "    zip_ref = zipfile.ZipFile(\"./heads.zip\", \"r\") #Opens the zip file in read mode\n",
    "    zip_ref.extractall(\"./\") #Extracts the files into the /tmp folder\n",
    "    zip_ref.close()"
   ]
  },
  {
   "cell_type": "markdown",
   "metadata": {},
   "source": [
    "Total rows 13,165\n",
    "- training: 9,500 (72%)\n",
    "- validation: 3,665 (28%)"
   ]
  },
  {
   "cell_type": "code",
   "execution_count": 3,
   "metadata": {},
   "outputs": [
    {
     "name": "stdout",
     "output_type": "stream",
     "text": [
      "Could not find a backend to open `./SMILEsmileD-master/SMILEs/negatives/negatives7/negatives.zip`` with iomode `ri`.\n",
      "Training size 9500\n",
      "Validation size 3665\n"
     ]
    },
    {
     "name": "stderr",
     "output_type": "stream",
     "text": [
      "/var/folders/z_/p5t422z16619kv7q361n6fxh0000gn/T/ipykernel_63541/3048854799.py:18: VisibleDeprecationWarning: Creating an ndarray from ragged nested sequences (which is a list-or-tuple of lists-or-tuples-or ndarrays with different lengths or shapes) is deprecated. If you meant to do this, you must specify 'dtype=object' when creating the ndarray.\n",
      "  images = np.array(load_dir(f\"{ROOT_DIRECTORY}/negatives/negatives7/\", 0) + \\\n"
     ]
    }
   ],
   "source": [
    "import numpy as np\n",
    "from os import listdir\n",
    "from skimage.io import imread\n",
    "from skimage.feature import hog\n",
    "\n",
    "ROOT_DIRECTORY = \"./SMILEsmileD-master/SMILEs\"\n",
    "\n",
    "def load_dir(path, label):\n",
    "    loaded_images = []\n",
    "    for name in listdir(path):\n",
    "        try:\n",
    "            loaded_images.append([path+name, label, hog(imread(path+name))])\n",
    "        except Exception as e:\n",
    "            print(e)\n",
    "    return loaded_images\n",
    "\n",
    "def load_dataset():\n",
    "  images = np.array(load_dir(f\"{ROOT_DIRECTORY}/negatives/negatives7/\", 0) + \\\n",
    "          load_dir(f\"{ROOT_DIRECTORY}/positives/positives7/\", 1))\n",
    "  np.random.shuffle(images)\n",
    "  training, validation = np.split(images, [9_500])\n",
    "  return training, validation\n",
    "\n",
    "training, validation = load_dataset()\n",
    "print(f\"Training size {len(training)}\")\n",
    "print(f\"Validation size {len(validation)}\")"
   ]
  },
  {
   "cell_type": "code",
   "execution_count": 4,
   "metadata": {},
   "outputs": [],
   "source": [
    "import matplotlib.pyplot as plt\n",
    "\n",
    "def display_image(image):\n",
    "    img = imread(image)\n",
    "    plt.axis(\"off\")\n",
    "    plt.imshow(img)\n",
    "    print(img.shape)\n",
    "\n",
    "def display_hog(image):\n",
    "    fd, hog_image = hog(imread(image), visualize=True)\n",
    "    plt.axis(\"off\")\n",
    "    plt.imshow(hog_image, cmap=\"gray\")\n",
    "\n",
    "def test_image(row, model):\n",
    "    test_path, label, test_features = row\n",
    "    display_image(test_path)\n",
    "    prediction = model.predict([test_features])[0]\n",
    "    print(f\"Label: {label}, Prediction: {prediction}\")\n"
   ]
  },
  {
   "cell_type": "code",
   "execution_count": 5,
   "metadata": {},
   "outputs": [],
   "source": [
    "from sklearn.metrics import (\n",
    "    confusion_matrix, ConfusionMatrixDisplay, classification_report\n",
    ")\n",
    "from sklearn.model_selection import GridSearchCV\n",
    "from sklearn.svm import SVC\n",
    "\n",
    "\n",
    "def generate_model(training, classifier, param_grid):\n",
    "    X = np.stack(training[:, 2])\n",
    "    Y = np.stack(training[:, 1])\n",
    "\n",
    "    model = GridSearchCV(estimator=classifier(), param_grid=param_grid)\n",
    "    model.fit(X, Y)\n",
    "    print(f\"Best parameters {model.best_params_}\")\n",
    "\n",
    "    return model\n",
    "\n",
    "\n",
    "def get_metrics(validation, model):\n",
    "    true_labels = np.stack(validation[:, 1])\n",
    "    predictions = model.predict(np.stack(validation[:, 2]))\n",
    "    matrix = confusion_matrix(true_labels, predictions)\n",
    "    disp = ConfusionMatrixDisplay(confusion_matrix=matrix)\n",
    "    disp.plot()\n",
    "    print(classification_report(true_labels, predictions))"
   ]
  },
  {
   "cell_type": "code",
   "execution_count": 9,
   "metadata": {},
   "outputs": [
    {
     "name": "stdout",
     "output_type": "stream",
     "text": [
      "Best parameters {'C': 1.5, 'kernel': 'rbf'}\n",
      "              precision    recall  f1-score   support\n",
      "\n",
      "           0       0.93      0.95      0.94      2635\n",
      "           1       0.86      0.81      0.84      1030\n",
      "\n",
      "    accuracy                           0.91      3665\n",
      "   macro avg       0.90      0.88      0.89      3665\n",
      "weighted avg       0.91      0.91      0.91      3665\n",
      "\n"
     ]
    },
    {
     "data": {
      "image/png": "[encoded data removed]",
      "text/plain": [
       "<Figure size 432x288 with 2 Axes>"
      ]
     },
     "metadata": {
      "needs_background": "light"
     },
     "output_type": "display_data"
    }
   ],
   "source": [
    "from sklearn.svm import SVC\n",
    "\n",
    "svc_model = generate_model(training, SVC, {\n",
    "    \"kernel\": [\"rbf\"],\n",
    "    \"C\": [0.5, 1, 1.5],\n",
    "})\n",
    "get_metrics(validation, svc_model)"
   ]
  },
  {
   "cell_type": "code",
   "execution_count": 6,
   "metadata": {},
   "outputs": [
    {
     "name": "stderr",
     "output_type": "stream",
     "text": [
      "/Users/david-rodriguez/Documents/Personal/Code/vision_computacional/env/lib/python3.9/site-packages/sklearn/model_selection/_validation.py:378: FitFailedWarning: \n",
      "5 fits failed out of a total of 15.\n",
      "The score on these train-test partitions for these parameters will be set to nan.\n",
      "If these failures are not expected, you can try to debug them by setting error_score='raise'.\n",
      "\n",
      "Below are more details about the failures:\n",
      "--------------------------------------------------------------------------------\n",
      "5 fits failed with the following error:\n",
      "Traceback (most recent call last):\n",
      "  File \"/Users/david-rodriguez/Documents/Personal/Code/vision_computacional/env/lib/python3.9/site-packages/sklearn/model_selection/_validation.py\", line 686, in _fit_and_score\n",
      "    estimator.fit(X_train, y_train, **fit_params)\n",
      "  File \"/Users/david-rodriguez/Documents/Personal/Code/vision_computacional/env/lib/python3.9/site-packages/sklearn/svm/_base.py\", line 251, in fit\n",
      "    fit(X, y, sample_weight, solver_type, kernel, random_seed=seed)\n",
      "  File \"/Users/david-rodriguez/Documents/Personal/Code/vision_computacional/env/lib/python3.9/site-packages/sklearn/svm/_base.py\", line 333, in _dense_fit\n",
      "    ) = libsvm.fit(\n",
      "  File \"sklearn/svm/_libsvm.pyx\", line 192, in sklearn.svm._libsvm.fit\n",
      "ValueError: specified nu is infeasible\n",
      "\n",
      "  warnings.warn(some_fits_failed_message, FitFailedWarning)\n",
      "/Users/david-rodriguez/Documents/Personal/Code/vision_computacional/env/lib/python3.9/site-packages/sklearn/model_selection/_search.py:953: UserWarning: One or more of the test scores are non-finite: [0.91294737 0.86747368        nan]\n",
      "  warnings.warn(\n"
     ]
    },
    {
     "name": "stdout",
     "output_type": "stream",
     "text": [
      "Best parameters {'kernel': 'rbf', 'nu': 0.3}\n",
      "              precision    recall  f1-score   support\n",
      "\n",
      "           0       0.92      0.95      0.94      2635\n",
      "           1       0.87      0.79      0.83      1030\n",
      "\n",
      "    accuracy                           0.91      3665\n",
      "   macro avg       0.90      0.87      0.88      3665\n",
      "weighted avg       0.91      0.91      0.91      3665\n",
      "\n"
     ]
    },
    {
     "data": {
      "image/png": "[encoded data removed]",
      "text/plain": [
       "<Figure size 432x288 with 2 Axes>"
      ]
     },
     "metadata": {
      "needs_background": "light"
     },
     "output_type": "display_data"
    }
   ],
   "source": [
    "from sklearn.svm import NuSVC\n",
    "\n",
    "nu_svc_model = generate_model(training, NuSVC, {\n",
    "    \"kernel\": [\"rbf\"],\n",
    "    \"nu\": [0.3, 0.5, 0.6],\n",
    "})\n",
    "get_metrics(validation, nu_svc_model)"
   ]
  },
  {
   "cell_type": "code",
   "execution_count": 8,
   "metadata": {},
   "outputs": [
    {
     "name": "stderr",
     "output_type": "stream",
     "text": [
      "/Users/david-rodriguez/Documents/Personal/Code/vision_computacional/env/lib/python3.9/site-packages/sklearn/svm/_base.py:1225: ConvergenceWarning: Liblinear failed to converge, increase the number of iterations.\n",
      "  warnings.warn(\n",
      "/Users/david-rodriguez/Documents/Personal/Code/vision_computacional/env/lib/python3.9/site-packages/sklearn/svm/_base.py:1225: ConvergenceWarning: Liblinear failed to converge, increase the number of iterations.\n",
      "  warnings.warn(\n",
      "/Users/david-rodriguez/Documents/Personal/Code/vision_computacional/env/lib/python3.9/site-packages/sklearn/svm/_base.py:1225: ConvergenceWarning: Liblinear failed to converge, increase the number of iterations.\n",
      "  warnings.warn(\n",
      "/Users/david-rodriguez/Documents/Personal/Code/vision_computacional/env/lib/python3.9/site-packages/sklearn/svm/_base.py:1225: ConvergenceWarning: Liblinear failed to converge, increase the number of iterations.\n",
      "  warnings.warn(\n",
      "/Users/david-rodriguez/Documents/Personal/Code/vision_computacional/env/lib/python3.9/site-packages/sklearn/svm/_base.py:1225: ConvergenceWarning: Liblinear failed to converge, increase the number of iterations.\n",
      "  warnings.warn(\n",
      "/Users/david-rodriguez/Documents/Personal/Code/vision_computacional/env/lib/python3.9/site-packages/sklearn/svm/_base.py:1225: ConvergenceWarning: Liblinear failed to converge, increase the number of iterations.\n",
      "  warnings.warn(\n",
      "/Users/david-rodriguez/Documents/Personal/Code/vision_computacional/env/lib/python3.9/site-packages/sklearn/svm/_base.py:1225: ConvergenceWarning: Liblinear failed to converge, increase the number of iterations.\n",
      "  warnings.warn(\n",
      "/Users/david-rodriguez/Documents/Personal/Code/vision_computacional/env/lib/python3.9/site-packages/sklearn/svm/_base.py:1225: ConvergenceWarning: Liblinear failed to converge, increase the number of iterations.\n",
      "  warnings.warn(\n",
      "/Users/david-rodriguez/Documents/Personal/Code/vision_computacional/env/lib/python3.9/site-packages/sklearn/svm/_base.py:1225: ConvergenceWarning: Liblinear failed to converge, increase the number of iterations.\n",
      "  warnings.warn(\n",
      "/Users/david-rodriguez/Documents/Personal/Code/vision_computacional/env/lib/python3.9/site-packages/sklearn/svm/_base.py:1225: ConvergenceWarning: Liblinear failed to converge, increase the number of iterations.\n",
      "  warnings.warn(\n",
      "/Users/david-rodriguez/Documents/Personal/Code/vision_computacional/env/lib/python3.9/site-packages/sklearn/model_selection/_validation.py:378: FitFailedWarning: \n",
      "10 fits failed out of a total of 20.\n",
      "The score on these train-test partitions for these parameters will be set to nan.\n",
      "If these failures are not expected, you can try to debug them by setting error_score='raise'.\n",
      "\n",
      "Below are more details about the failures:\n",
      "--------------------------------------------------------------------------------\n",
      "10 fits failed with the following error:\n",
      "Traceback (most recent call last):\n",
      "  File \"/Users/david-rodriguez/Documents/Personal/Code/vision_computacional/env/lib/python3.9/site-packages/sklearn/model_selection/_validation.py\", line 686, in _fit_and_score\n",
      "    estimator.fit(X_train, y_train, **fit_params)\n",
      "  File \"/Users/david-rodriguez/Documents/Personal/Code/vision_computacional/env/lib/python3.9/site-packages/sklearn/svm/_classes.py\", line 257, in fit\n",
      "    self.coef_, self.intercept_, n_iter_ = _fit_liblinear(\n",
      "  File \"/Users/david-rodriguez/Documents/Personal/Code/vision_computacional/env/lib/python3.9/site-packages/sklearn/svm/_base.py\", line 1204, in _fit_liblinear\n",
      "    solver_type = _get_liblinear_solver_type(multi_class, penalty, loss, dual)\n",
      "  File \"/Users/david-rodriguez/Documents/Personal/Code/vision_computacional/env/lib/python3.9/site-packages/sklearn/svm/_base.py\", line 1043, in _get_liblinear_solver_type\n",
      "    raise ValueError(\n",
      "ValueError: Unsupported set of arguments: The combination of penalty='l1' and loss='hinge' is not supported, Parameters: penalty='l1', loss='hinge', dual=True\n",
      "\n",
      "  warnings.warn(some_fits_failed_message, FitFailedWarning)\n",
      "/Users/david-rodriguez/Documents/Personal/Code/vision_computacional/env/lib/python3.9/site-packages/sklearn/model_selection/_search.py:953: UserWarning: One or more of the test scores are non-finite: [       nan 0.89957895        nan 0.88905263]\n",
      "  warnings.warn(\n"
     ]
    },
    {
     "name": "stdout",
     "output_type": "stream",
     "text": [
      "Best parameters {'C': 1, 'loss': 'hinge', 'penalty': 'l2'}\n",
      "              precision    recall  f1-score   support\n",
      "\n",
      "           0       0.93      0.94      0.93      2635\n",
      "           1       0.83      0.81      0.82      1030\n",
      "\n",
      "    accuracy                           0.90      3665\n",
      "   macro avg       0.88      0.87      0.88      3665\n",
      "weighted avg       0.90      0.90      0.90      3665\n",
      "\n"
     ]
    },
    {
     "name": "stderr",
     "output_type": "stream",
     "text": [
      "/Users/david-rodriguez/Documents/Personal/Code/vision_computacional/env/lib/python3.9/site-packages/sklearn/svm/_base.py:1225: ConvergenceWarning: Liblinear failed to converge, increase the number of iterations.\n",
      "  warnings.warn(\n"
     ]
    },
    {
     "data": {
      "image/png": "[encoded data removed]",
      "text/plain": [
       "<Figure size 432x288 with 2 Axes>"
      ]
     },
     "metadata": {
      "needs_background": "light"
     },
     "output_type": "display_data"
    }
   ],
   "source": [
    "from sklearn.svm import LinearSVC\n",
    "\n",
    "linear_svc_model = generate_model(training, LinearSVC, {\n",
    "    \"penalty\": [\"l1\", \"l2\"],\n",
    "    \"loss\": [\"hinge\"],\n",
    "    \"C\": [1, 10],\n",
    "})\n",
    "get_metrics(validation, linear_svc_model)"
   ]
  },
  {
   "cell_type": "code",
   "execution_count": 10,
   "metadata": {},
   "outputs": [
    {
     "ename": "KeyboardInterrupt",
     "evalue": "",
     "output_type": "error",
     "traceback": [
      "\u001b[0;31m---------------------------------------------------------------------------\u001b[0m",
      "\u001b[0;31mKeyboardInterrupt\u001b[0m                         Traceback (most recent call last)",
      "\u001b[1;32m/Users/david-rodriguez/Documents/Personal/Code/vision_computacional/practica_6.ipynb Cell 9'\u001b[0m in \u001b[0;36m<cell line: 38>\u001b[0;34m()\u001b[0m\n\u001b[1;32m     <a href='vscode-notebook-cell:/Users/david-rodriguez/Documents/Personal/Code/vision_computacional/practica_6.ipynb#ch0000009?line=34'>35</a>\u001b[0m         \u001b[39mif\u001b[39;00m cv\u001b[39m.\u001b[39mwaitKey(\u001b[39m10\u001b[39m) \u001b[39m==\u001b[39m \u001b[39m27\u001b[39m:\n\u001b[1;32m     <a href='vscode-notebook-cell:/Users/david-rodriguez/Documents/Personal/Code/vision_computacional/practica_6.ipynb#ch0000009?line=35'>36</a>\u001b[0m             \u001b[39mbreak\u001b[39;00m\n\u001b[0;32m---> <a href='vscode-notebook-cell:/Users/david-rodriguez/Documents/Personal/Code/vision_computacional/practica_6.ipynb#ch0000009?line=37'>38</a>\u001b[0m detect_camera_smile(svc_model)\n",
      "\u001b[1;32m/Users/david-rodriguez/Documents/Personal/Code/vision_computacional/practica_6.ipynb Cell 9'\u001b[0m in \u001b[0;36mdetect_camera_smile\u001b[0;34m(model)\u001b[0m\n\u001b[1;32m     <a href='vscode-notebook-cell:/Users/david-rodriguez/Documents/Personal/Code/vision_computacional/practica_6.ipynb#ch0000009?line=31'>32</a>\u001b[0m     \u001b[39mprint\u001b[39m(\u001b[39m'\u001b[39m\u001b[39m--(!) No captured frame -- Break!\u001b[39m\u001b[39m'\u001b[39m)\n\u001b[1;32m     <a href='vscode-notebook-cell:/Users/david-rodriguez/Documents/Personal/Code/vision_computacional/practica_6.ipynb#ch0000009?line=32'>33</a>\u001b[0m     \u001b[39mbreak\u001b[39;00m\n\u001b[0;32m---> <a href='vscode-notebook-cell:/Users/david-rodriguez/Documents/Personal/Code/vision_computacional/practica_6.ipynb#ch0000009?line=33'>34</a>\u001b[0m detectAndDisplay(frame)\n\u001b[1;32m     <a href='vscode-notebook-cell:/Users/david-rodriguez/Documents/Personal/Code/vision_computacional/practica_6.ipynb#ch0000009?line=34'>35</a>\u001b[0m \u001b[39mif\u001b[39;00m cv\u001b[39m.\u001b[39mwaitKey(\u001b[39m10\u001b[39m) \u001b[39m==\u001b[39m \u001b[39m27\u001b[39m:\n\u001b[1;32m     <a href='vscode-notebook-cell:/Users/david-rodriguez/Documents/Personal/Code/vision_computacional/practica_6.ipynb#ch0000009?line=35'>36</a>\u001b[0m     \u001b[39mbreak\u001b[39;00m\n",
      "\u001b[1;32m/Users/david-rodriguez/Documents/Personal/Code/vision_computacional/practica_6.ipynb Cell 9'\u001b[0m in \u001b[0;36mdetect_camera_smile.<locals>.detectAndDisplay\u001b[0;34m(frame)\u001b[0m\n\u001b[1;32m      <a href='vscode-notebook-cell:/Users/david-rodriguez/Documents/Personal/Code/vision_computacional/practica_6.ipynb#ch0000009?line=6'>7</a>\u001b[0m frame_gray \u001b[39m=\u001b[39m cv\u001b[39m.\u001b[39mcvtColor(frame, cv\u001b[39m.\u001b[39mCOLOR_BGR2GRAY)\n\u001b[1;32m      <a href='vscode-notebook-cell:/Users/david-rodriguez/Documents/Personal/Code/vision_computacional/practica_6.ipynb#ch0000009?line=7'>8</a>\u001b[0m frame_gray \u001b[39m=\u001b[39m cv\u001b[39m.\u001b[39mequalizeHist(frame_gray)\n\u001b[0;32m----> <a href='vscode-notebook-cell:/Users/david-rodriguez/Documents/Personal/Code/vision_computacional/practica_6.ipynb#ch0000009?line=8'>9</a>\u001b[0m faces \u001b[39m=\u001b[39m face_cascade\u001b[39m.\u001b[39;49mdetectMultiScale(frame_gray)\n\u001b[1;32m     <a href='vscode-notebook-cell:/Users/david-rodriguez/Documents/Personal/Code/vision_computacional/practica_6.ipynb#ch0000009?line=9'>10</a>\u001b[0m \u001b[39mfor\u001b[39;00m (x, y, w, h) \u001b[39min\u001b[39;00m faces:\n\u001b[1;32m     <a href='vscode-notebook-cell:/Users/david-rodriguez/Documents/Personal/Code/vision_computacional/practica_6.ipynb#ch0000009?line=10'>11</a>\u001b[0m     center \u001b[39m=\u001b[39m (x \u001b[39m+\u001b[39m w\u001b[39m/\u001b[39m\u001b[39m/\u001b[39m\u001b[39m2\u001b[39m, y \u001b[39m+\u001b[39m h\u001b[39m/\u001b[39m\u001b[39m/\u001b[39m\u001b[39m2\u001b[39m)\n",
      "\u001b[0;31mKeyboardInterrupt\u001b[0m: "
     ]
    },
    {
     "ename": "",
     "evalue": "",
     "output_type": "error",
     "traceback": [
      "\u001b[1;31mThe Kernel crashed while executing code in the the current cell or a previous cell. Please review the code in the cell(s) to identify a possible cause of the failure. Click <a href='https://aka.ms/vscodeJupyterKernelCrash'>here</a> for more info. View Jupyter <a href='command:jupyter.viewOutput'>log</a> for further details."
     ]
    }
   ],
   "source": [
    "from __future__ import print_function\n",
    "import cv2 as cv\n",
    "\n",
    "\n",
    "def detect_camera_smile(model):\n",
    "    def detectAndDisplay(frame):\n",
    "        frame_gray = cv.cvtColor(frame, cv.COLOR_BGR2GRAY)\n",
    "        frame_gray = cv.equalizeHist(frame_gray)\n",
    "        faces = face_cascade.detectMultiScale(frame_gray)\n",
    "        for (x, y, w, h) in faces:\n",
    "            center = (x + w//2, y + h//2)\n",
    "            frame = cv.rectangle(frame, [x, y], [x+w, y+h], (255, 0, 255))\n",
    "            faceROI = cv.resize(frame_gray[y:y+h,x:x+w], dsize=(64, 64))\n",
    "            text = \"Smile\" if model.predict([hog(faceROI)])[0] else \"No smile\"\n",
    "            cv.putText(frame, text, (x, y-10), cv.FONT_HERSHEY_SIMPLEX, 0.9, (36, 255, 12), 2)\n",
    "            \n",
    "        cv.imshow('Capture - Face detection', frame)\n",
    "\n",
    "    face_cascade_name = \"./haarcascade_frontalface_default.xml\"\n",
    "    face_cascade = cv.CascadeClassifier()\n",
    "    #-- 1. Load the cascades\n",
    "    if not face_cascade.load(cv.samples.findFile(face_cascade_name)):\n",
    "        print('--(!)Error loading face cascade')\n",
    "        exit(0)\n",
    "    cap = cv.VideoCapture(0)\n",
    "    if not cap.isOpened:\n",
    "        print('--(!)Error opening video capture')\n",
    "        exit(0)\n",
    "    while True:\n",
    "        ret, frame = cap.read()\n",
    "        if frame is None:\n",
    "            print('--(!) No captured frame -- Break!')\n",
    "            break\n",
    "        detectAndDisplay(frame)\n",
    "        if cv.waitKey(10) == 27:\n",
    "            break\n",
    "\n",
    "detect_camera_smile(svc_model)"
   ]
  },
  {
   "cell_type": "code",
   "execution_count": null,
   "metadata": {},
   "outputs": [],
   "source": []
  }
 ],
 "metadata": {
  "interpreter": {
   "hash": "6ab48320ec1833dda07e4d49b1219971196a0a395b18a9b03c07b5681de454f1"
  },
  "kernelspec": {
   "display_name": "Python 3.9.10 ('env': venv)",
   "language": "python",
   "name": "python3"
  },
  "language_info": {
   "codemirror_mode": {
    "name": "ipython",
    "version": 3
   },
   "file_extension": ".py",
   "mimetype": "text/x-python",
   "name": "python",
   "nbconvert_exporter": "python",
   "pygments_lexer": "ipython3",
   "version": "3.9.10"
  },
  "orig_nbformat": 4
 },
 "nbformat": 4,
 "nbformat_minor": 2
}
