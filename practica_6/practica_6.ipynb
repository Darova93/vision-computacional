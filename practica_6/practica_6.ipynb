{
 "cells": [
  {
   "cell_type": "code",
   "execution_count": 1,
   "metadata": {},
   "outputs": [],
   "source": [
    "import zipfile\n",
    "import urllib.request\n",
    "\n",
    "def download_files():\n",
    "    urllib.request.urlretrieve(\"https://github.com/hromi/SMILEsmileD/archive/refs/heads/master.zip\", \"./heads.zip\")\n",
    "    zip_ref = zipfile.ZipFile(\"./heads.zip\", \"r\") #Opens the zip file in read mode\n",
    "    zip_ref.extractall(\"./\") #Extracts the files into the /tmp folder\n",
    "    zip_ref.close()"
   ]
  },
  {
   "cell_type": "markdown",
   "metadata": {},
   "source": [
    "Total rows 13,165\n",
    "- training: 9,500 (72%)\n",
    "- validation: 3,665 (28%)"
   ]
  },
  {
   "cell_type": "code",
   "execution_count": 2,
   "metadata": {},
   "outputs": [
    {
     "name": "stdout",
     "output_type": "stream",
     "text": [
      "Could not find a backend to open `./SMILEsmileD-master/SMILEs/negatives/negatives7/negatives.zip`` with iomode `ri`.\n",
      "Training size 9500\n",
      "Validation size 3665\n"
     ]
    },
    {
     "name": "stderr",
     "output_type": "stream",
     "text": [
      "/var/folders/z_/p5t422z16619kv7q361n6fxh0000gn/T/ipykernel_96642/3048854799.py:18: VisibleDeprecationWarning: Creating an ndarray from ragged nested sequences (which is a list-or-tuple of lists-or-tuples-or ndarrays with different lengths or shapes) is deprecated. If you meant to do this, you must specify 'dtype=object' when creating the ndarray.\n",
      "  images = np.array(load_dir(f\"{ROOT_DIRECTORY}/negatives/negatives7/\", 0) + \\\n"
     ]
    }
   ],
   "source": [
    "import numpy as np\n",
    "from os import listdir\n",
    "from skimage.io import imread\n",
    "from skimage.feature import hog\n",
    "\n",
    "ROOT_DIRECTORY = \"./SMILEsmileD-master/SMILEs\"\n",
    "\n",
    "def load_dir(path, label):\n",
    "    loaded_images = []\n",
    "    for name in listdir(path):\n",
    "        try:\n",
    "            loaded_images.append([path+name, label, hog(imread(path+name))])\n",
    "        except Exception as e:\n",
    "            print(e)\n",
    "    return loaded_images\n",
    "\n",
    "def load_dataset():\n",
    "  images = np.array(load_dir(f\"{ROOT_DIRECTORY}/negatives/negatives7/\", 0) + \\\n",
    "          load_dir(f\"{ROOT_DIRECTORY}/positives/positives7/\", 1))\n",
    "  np.random.shuffle(images)\n",
    "  training, validation = np.split(images, [9_500])\n",
    "  return training, validation\n",
    "\n",
    "training, validation = load_dataset()\n",
    "print(f\"Training size {len(training)}\")\n",
    "print(f\"Validation size {len(validation)}\")"
   ]
  },
  {
   "cell_type": "code",
   "execution_count": 3,
   "metadata": {},
   "outputs": [],
   "source": [
    "import matplotlib.pyplot as plt\n",
    "\n",
    "def display_image(image):\n",
    "    img = imread(image)\n",
    "    plt.axis(\"off\")\n",
    "    plt.imshow(img)\n",
    "    print(img.shape)\n",
    "\n",
    "def display_hog(image):\n",
    "    fd, hog_image = hog(imread(image), visualize=True)\n",
    "    plt.axis(\"off\")\n",
    "    plt.imshow(hog_image, cmap=\"gray\")\n",
    "\n",
    "def test_image(row, model):\n",
    "    test_path, label, test_features = row\n",
    "    display_image(test_path)\n",
    "    prediction = model.predict([test_features])[0]\n",
    "    print(f\"Label: {label}, Prediction: {prediction}\")\n"
   ]
  },
  {
   "cell_type": "code",
   "execution_count": 16,
   "metadata": {},
   "outputs": [],
   "source": [
    "from sklearn.metrics import (\n",
    "    confusion_matrix, ConfusionMatrixDisplay, classification_report\n",
    ")\n",
    "from sklearn.model_selection import GridSearchCV\n",
    "from sklearn.svm import SVC\n",
    "\n",
    "\n",
    "def generate_model(training, classifier, param_grid):\n",
    "    X = np.stack(training[:, 2])\n",
    "    Y = np.stack(training[:, 1])\n",
    "\n",
    "    model = GridSearchCV(estimator=classifier(dual=False), param_grid=param_grid)\n",
    "    model.fit(X, Y)\n",
    "    print(f\"Best parameters {model.best_params_}\")\n",
    "\n",
    "    return model\n",
    "\n",
    "\n",
    "def get_metrics(validation, model):\n",
    "    true_labels = np.stack(validation[:, 1])\n",
    "    predictions = model.predict(np.stack(validation[:, 2]))\n",
    "    matrix = confusion_matrix(true_labels, predictions)\n",
    "    disp = ConfusionMatrixDisplay(confusion_matrix=matrix)\n",
    "    disp.plot()\n",
    "    print(classification_report(true_labels, predictions))"
   ]
  },
  {
   "cell_type": "code",
   "execution_count": 5,
   "metadata": {},
   "outputs": [
    {
     "name": "stdout",
     "output_type": "stream",
     "text": [
      "Best parameters {'C': 1.5, 'kernel': 'rbf'}\n",
      "              precision    recall  f1-score   support\n",
      "\n",
      "           0       0.93      0.96      0.94      2612\n",
      "           1       0.89      0.82      0.85      1053\n",
      "\n",
      "    accuracy                           0.92      3665\n",
      "   macro avg       0.91      0.89      0.90      3665\n",
      "weighted avg       0.92      0.92      0.92      3665\n",
      "\n"
     ]
    },
    {
     "data": {
      "image/png": "[encoded data removed]",
      "text/plain": [
       "<Figure size 432x288 with 2 Axes>"
      ]
     },
     "metadata": {
      "needs_background": "light"
     },
     "output_type": "display_data"
    }
   ],
   "source": [
    "from sklearn.svm import SVC\n",
    "\n",
    "svc_model = generate_model(training, SVC, {\n",
    "    \"kernel\": [\"rbf\"],\n",
    "    \"C\": [0.5, 1, 1.5],\n",
    "})\n",
    "get_metrics(validation, svc_model)"
   ]
  },
  {
   "cell_type": "code",
   "execution_count": 6,
   "metadata": {},
   "outputs": [
    {
     "name": "stdout",
     "output_type": "stream",
     "text": [
      "Best parameters {'kernel': 'rbf', 'nu': 0.1}\n",
      "              precision    recall  f1-score   support\n",
      "\n",
      "           0       0.93      0.95      0.94      2612\n",
      "           1       0.87      0.83      0.85      1053\n",
      "\n",
      "    accuracy                           0.92      3665\n",
      "   macro avg       0.90      0.89      0.90      3665\n",
      "weighted avg       0.92      0.92      0.92      3665\n",
      "\n"
     ]
    },
    {
     "data": {
      "image/png": "[encoded data removed]",
      "text/plain": [
       "<Figure size 432x288 with 2 Axes>"
      ]
     },
     "metadata": {
      "needs_background": "light"
     },
     "output_type": "display_data"
    }
   ],
   "source": [
    "from sklearn.svm import NuSVC\n",
    "\n",
    "nu_svc_model = generate_model(training, NuSVC, {\n",
    "    \"kernel\": [\"rbf\"],\n",
    "    \"nu\": [0.1, 0.3, 0.4],\n",
    "})\n",
    "get_metrics(validation, nu_svc_model)"
   ]
  },
  {
   "cell_type": "code",
   "execution_count": 17,
   "metadata": {},
   "outputs": [
    {
     "name": "stderr",
     "output_type": "stream",
     "text": [
      "/Users/david-rodriguez/Documents/Personal/Code/vision_computacional/env/lib/python3.9/site-packages/sklearn/svm/_base.py:1225: ConvergenceWarning: Liblinear failed to converge, increase the number of iterations.\n",
      "  warnings.warn(\n",
      "/Users/david-rodriguez/Documents/Personal/Code/vision_computacional/env/lib/python3.9/site-packages/sklearn/svm/_base.py:1225: ConvergenceWarning: Liblinear failed to converge, increase the number of iterations.\n",
      "  warnings.warn(\n",
      "/Users/david-rodriguez/Documents/Personal/Code/vision_computacional/env/lib/python3.9/site-packages/sklearn/svm/_base.py:1225: ConvergenceWarning: Liblinear failed to converge, increase the number of iterations.\n",
      "  warnings.warn(\n",
      "/Users/david-rodriguez/Documents/Personal/Code/vision_computacional/env/lib/python3.9/site-packages/sklearn/svm/_base.py:1225: ConvergenceWarning: Liblinear failed to converge, increase the number of iterations.\n",
      "  warnings.warn(\n",
      "/Users/david-rodriguez/Documents/Personal/Code/vision_computacional/env/lib/python3.9/site-packages/sklearn/svm/_base.py:1225: ConvergenceWarning: Liblinear failed to converge, increase the number of iterations.\n",
      "  warnings.warn(\n",
      "/Users/david-rodriguez/Documents/Personal/Code/vision_computacional/env/lib/python3.9/site-packages/sklearn/svm/_base.py:1225: ConvergenceWarning: Liblinear failed to converge, increase the number of iterations.\n",
      "  warnings.warn(\n",
      "/Users/david-rodriguez/Documents/Personal/Code/vision_computacional/env/lib/python3.9/site-packages/sklearn/svm/_base.py:1225: ConvergenceWarning: Liblinear failed to converge, increase the number of iterations.\n",
      "  warnings.warn(\n",
      "/Users/david-rodriguez/Documents/Personal/Code/vision_computacional/env/lib/python3.9/site-packages/sklearn/svm/_base.py:1225: ConvergenceWarning: Liblinear failed to converge, increase the number of iterations.\n",
      "  warnings.warn(\n",
      "/Users/david-rodriguez/Documents/Personal/Code/vision_computacional/env/lib/python3.9/site-packages/sklearn/svm/_base.py:1225: ConvergenceWarning: Liblinear failed to converge, increase the number of iterations.\n",
      "  warnings.warn(\n",
      "/Users/david-rodriguez/Documents/Personal/Code/vision_computacional/env/lib/python3.9/site-packages/sklearn/svm/_base.py:1225: ConvergenceWarning: Liblinear failed to converge, increase the number of iterations.\n",
      "  warnings.warn(\n",
      "/Users/david-rodriguez/Documents/Personal/Code/vision_computacional/env/lib/python3.9/site-packages/sklearn/svm/_base.py:1225: ConvergenceWarning: Liblinear failed to converge, increase the number of iterations.\n",
      "  warnings.warn(\n"
     ]
    },
    {
     "name": "stdout",
     "output_type": "stream",
     "text": [
      "Best parameters {'C': 0.1, 'penalty': 'l1'}\n",
      "              precision    recall  f1-score   support\n",
      "\n",
      "           0       0.92      0.95      0.93      2612\n",
      "           1       0.86      0.79      0.83      1053\n",
      "\n",
      "    accuracy                           0.90      3665\n",
      "   macro avg       0.89      0.87      0.88      3665\n",
      "weighted avg       0.90      0.90      0.90      3665\n",
      "\n"
     ]
    },
    {
     "data": {
      "image/png": "[encoded data removed]",
      "text/plain": [
       "<Figure size 432x288 with 2 Axes>"
      ]
     },
     "metadata": {
      "needs_background": "light"
     },
     "output_type": "display_data"
    }
   ],
   "source": [
    "from sklearn.svm import LinearSVC\n",
    "\n",
    "linear_svc_model = generate_model(training, LinearSVC, {\n",
    "    \"penalty\": [\"l1\", \"l2\"],\n",
    "    \"C\": [0.1, 1],\n",
    "})\n",
    "get_metrics(validation, linear_svc_model)"
   ]
  },
  {
   "cell_type": "code",
   "execution_count": 18,
   "metadata": {},
   "outputs": [
    {
     "ename": "",
     "evalue": "",
     "output_type": "error",
     "traceback": [
      "\u001b[1;31mThe Kernel crashed while executing code in the the current cell or a previous cell. Please review the code in the cell(s) to identify a possible cause of the failure. Click <a href='https://aka.ms/vscodeJupyterKernelCrash'>here</a> for more info. View Jupyter <a href='command:jupyter.viewOutput'>log</a> for further details."
     ]
    }
   ],
   "source": [
    "import cv2 as cv\n",
    "\n",
    "def detect_camera_smile(model):\n",
    "    def detectAndDisplay(frame):\n",
    "        frame_gray = cv.cvtColor(frame, cv.COLOR_BGR2GRAY)\n",
    "        frame_gray = cv.equalizeHist(frame_gray)\n",
    "        faces = face_cascade.detectMultiScale(frame_gray)\n",
    "        for (x, y, w, h) in faces:\n",
    "            center = (x + w//2, y + h//2)\n",
    "            frame = cv.rectangle(frame, [x, y], [x+w, y+h], (255, 0, 255))\n",
    "            faceROI = cv.resize(frame_gray[y:y+h,x:x+w], dsize=(64, 64))\n",
    "            text = \"Smile\" if model.predict([hog(faceROI)])[0] else \"No smile\"\n",
    "            cv.putText(frame, text, (x, y-10), cv.FONT_HERSHEY_SIMPLEX, 0.9, (36, 255, 12), 2)\n",
    "            \n",
    "        cv.imshow('Capture - Face detection', frame)\n",
    "\n",
    "    face_cascade_name = \"./haarcascade_frontalface_default.xml\"\n",
    "    face_cascade = cv.CascadeClassifier()\n",
    "    if not face_cascade.load(cv.samples.findFile(face_cascade_name)):\n",
    "        print('--(!)Error loading face cascade')\n",
    "        exit(0)\n",
    "    cap = cv.VideoCapture(0)\n",
    "    if not cap.isOpened:\n",
    "        print('--(!)Error opening video capture')\n",
    "        exit(0)\n",
    "    while True:\n",
    "        ret, frame = cap.read()\n",
    "        if frame is None:\n",
    "            print('--(!) No captured frame -- Break!')\n",
    "            break\n",
    "        detectAndDisplay(frame)\n",
    "        if cv.waitKey(10) == 27:\n",
    "            break\n",
    "\n",
    "detect_camera_smile(svc_model)"
   ]
  },
  {
   "cell_type": "code",
   "execution_count": null,
   "metadata": {},
   "outputs": [],
   "source": []
  }
 ],
 "metadata": {
  "interpreter": {
   "hash": "6ab48320ec1833dda07e4d49b1219971196a0a395b18a9b03c07b5681de454f1"
  },
  "kernelspec": {
   "display_name": "Python 3.9.10 ('env': venv)",
   "language": "python",
   "name": "python3"
  },
  "language_info": {
   "codemirror_mode": {
    "name": "ipython",
    "version": 3
   },
   "file_extension": ".py",
   "mimetype": "text/x-python",
   "name": "python",
   "nbconvert_exporter": "python",
   "pygments_lexer": "ipython3",
   "version": "3.9.10"
  },
  "orig_nbformat": 4
 },
 "nbformat": 4,
 "nbformat_minor": 2
}
